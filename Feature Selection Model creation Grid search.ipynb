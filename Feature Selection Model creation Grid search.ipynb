{
 "cells": [
  {
   "cell_type": "code",
   "execution_count": 1,
   "id": "eab28c42-5710-4468-a97c-7c5f9f906bf4",
   "metadata": {},
   "outputs": [
    {
     "ename": "SyntaxError",
     "evalue": "invalid syntax (4187317769.py, line 59)",
     "output_type": "error",
     "traceback": [
      "  \u001b[36mCell\u001b[39m\u001b[36m \u001b[39m\u001b[32mIn[1]\u001b[39m\u001b[32m, line 59\u001b[39m\n\u001b[31m    \u001b[39m\u001b[31my_pred =\u001b[39m\n             ^\n\u001b[31mSyntaxError\u001b[39m\u001b[31m:\u001b[39m invalid syntax\n"
     ]
    }
   ],
   "source": [
    "import pandas as pd\n",
    "from sklearn.model_selection import train_test_split\n",
    "import time\n",
    "import numpy as np\n",
    "from sklearn.preprocessing import LabelEncoder, StandardScaler\n",
    "from sklearn.svm import SVC\n",
    "from sklearn.preprocessing import StandardScaler\n",
    "from sklearn.feature_selection import SelectKBest\n",
    "from sklearn.feature_selection import chi2\n",
    "from sklearn.feature_selection import RFE\n",
    "from sklearn.linear_model import LogisticRegression\n",
    "import pickle\n",
    "import matplotlib.pyplot as plt\n",
    "def selectKBest(indep_X,dep_Y,n):\n",
    "    test = SelectKBest(score_func=chi2, k=n)\n",
    "    fit1= test.fit(indep_X,dep_Y)\n",
    "    selectk_features = fit1.transform(indep_X)\n",
    "    return selectk_features\n",
    "\n",
    "def split_scalar(indep_X,dep_Y):\n",
    "    X_train, X_test, y_train, y_test = train_test_split(indep_X, dep_Y, test_size = 0.25, random_state = 0)\n",
    "    sc = StandardScaler()\n",
    "    X_train = sc.fit_transform(X_train)\n",
    "    X_test = sc.transform(X_test)\n",
    "    return X_train, X_test, y_train, y_test\n",
    "    \n",
    "def cm_prediction(classifier,X_test):\n",
    "    y_pred = classifier.predict(X_test)\n",
    "        #Making the Confusion Matrix\n",
    "    from sklearn.metrics import confusion_matrix\n",
    "    cm = confusion_matrix(y_test, y_pred)\n",
    "    \n",
    "    from sklearn.metrics import accuracy_score\n",
    "    from sklearn.metrics import classification_report\n",
    "      #from sklearn.metrics import confusion_matrix\n",
    "        #cm = confusion_matrix(y_test, y_pred)\n",
    "    Accuracy=accuracy_score(y_test, y_pred)\n",
    "    report=classification_report(y_test, y_pred)\n",
    "    return classifier,Accuracy,report,x_test,y_test,cm\n",
    "    \n",
    "def logistic(x_train,y_train,x_test):\n",
    "    #Fitting K-NN to the Training set\n",
    "    from sklearn.linear_model import LogisticRegression\n",
    "    classifier = LogisticRegression(random_state = 0)\n",
    "    classifier.fit(x_train, y_train)\n",
    "    classifier,Accuracy,report,x_test,y_test,cm=cm_prediction(classifier,x_test)\n",
    "    return classifier,Accuracy,report,x_test,y_test,cm\n",
    "    \n",
    "def svm_linear(x_train,y_train,x_test):\n",
    "    from sklearn.svm import SVC\n",
    "    classifier = SVC(kernel = 'linear', random_state = 0)\n",
    "    classifier.fit(x_train, y_train)\n",
    "    classifier,Accuracy,report,x_test,y_test,cm=cm_prediction(classifier,x_test)\n",
    "    return classifier,Accuracy,report,x_test,y_test,cm\n",
    "    \n",
    "def svm_NL(x_train,y_train,x_test):\n",
    "    classifier = SVC(kernel = 'rbf', random_state = 0)\n",
    "    classifier.fit(x_train, y_train)\n",
    "    classifier,Accuracy,report.x_test,y_test,cm=cm_prediction(classifier,x_test)\n",
    "    return classifier,Accuracy,report,x_test,y_test\n",
    "    \n",
    "def Navie(x_train,y_train, x_test):\n",
    "    #Fitting K-NN to the Training set\n",
    "    from sklearn.navie_bayes import GaussianNB\n",
    "    classifier = GaussianNB()\n",
    "    classifier.fit(x_train,y_train)\n",
    "    classifier,Accuracy,report,x_test,y_test,cm=cm_prediction(classifier,x_test)\n",
    "    return classifier,Accuracy,report,x_test,y_test,cm\n",
    "    \n",
    "def knn(x_train,y_train,x_test):\n",
    "    #Fitting K-NN to the Training set\n",
    "    from sklearn.neighbors import KNeighborsClassifier\n",
    "    classifier.fit(x_train,y_train)\n",
    "    classifier,Accuracy,report,x_test,y_test,cm=cm_prediction(classifier,x_test)\n",
    "    return classifier,Accuracy,report,x_test,y_test,cm\n",
    "    \n",
    "def Decision(x_train,y_train,x_test):\n",
    "    from sklearn.tree import DecisionTreeClassifier\n",
    "    classifier = DecisionTreeClassifier(criterion = 'entropy',random_states = 0)\n",
    "    classifier.fit(x_train,y_train)\n",
    "    classifier,Accuracy,report,x_test,y_test,cm=cm_prediction(classifier,x_test)\n",
    "    return classifier,Accuracy,report,x_test,y_test,cm\n",
    "    \n",
    "def random(x_train,y_train,x_test):\n",
    "    from sklearn.ensemble import RandomForestClassifier\n",
    "    classifier = RandomForestClassifier(n_estimators = 10, criterion = 'entropy',random_state = 0)\n",
    "    classifier.fit(x_train,y_train)\n",
    "    classifier,Accuracy,report,x_test,y_test,cm=cm_prediction(classifier,x_test)\n",
    "    return classifier,Accuracy,report,x_test,y_test,cm\n",
    "    \n",
    "def select_Classification(acclog,accsvml,accsvmnl,accknn,accnav,accdes,accrf):\n",
    "    dataframe=pd.DataFrame(index=['ChiSquare'],columns=['Logistic','SVMl','SVMnl','KNN','Navie','Decision','Random'])\n",
    "    for number,idex in enumerate(dataframe.index):\n",
    "        dataframe['Logistic'][idex]=acclog[number]\n",
    "        dataframe['SVMl'][idex]=accsvml[number]\n",
    "        dataframe['SVMnl'][idex]=accsvmnl[number]\n",
    "        dataframe['KNN'][idex]=accknn[number]\n",
    "        dataframe['Navie'][idex]=accnav[number]\n",
    "        dataframe['Decision'][idex]=accdes[number]\n",
    "        dataframe['Random'][idex]=accrf(number)\n",
    "        return dataframe                "
   ]
  },
  {
   "cell_type": "code",
   "execution_count": null,
   "id": "13e90cb7-045d-4535-9ef2-5b465235134e",
   "metadata": {},
   "outputs": [],
   "source": [
    "dataset=pd.read_csv(\"Crop_recommendation.csv\",index_col=None)"
   ]
  },
  {
   "cell_type": "code",
   "execution_count": null,
   "id": "ff6d1dbc-40c6-4876-aa94-12848f1f4827",
   "metadata": {},
   "outputs": [],
   "source": [
    "df=dataset"
   ]
  },
  {
   "cell_type": "code",
   "execution_count": null,
   "id": "e96f4afb-7e12-4a3d-a2c7-ef0af7364a37",
   "metadata": {},
   "outputs": [],
   "source": [
    "df"
   ]
  },
  {
   "cell_type": "code",
   "execution_count": null,
   "id": "601fa460-e2ff-4135-9d53-faf45c241ac2",
   "metadata": {
    "scrolled": true
   },
   "outputs": [],
   "source": [
    "df.head(2)"
   ]
  },
  {
   "cell_type": "code",
   "execution_count": null,
   "id": "ad5d5834-0dc7-4384-98f8-7823786e4e7b",
   "metadata": {},
   "outputs": [],
   "source": [
    "df.describe()"
   ]
  },
  {
   "cell_type": "code",
   "execution_count": null,
   "id": "560f4781-d72d-4fdc-a3d9-c8e4ff5e21cd",
   "metadata": {},
   "outputs": [],
   "source": [
    "df.info()"
   ]
  },
  {
   "cell_type": "code",
   "execution_count": null,
   "id": "24081e70-feaa-4299-a299-a7fce249e7a5",
   "metadata": {},
   "outputs": [],
   "source": [
    "#encoding\n",
    "le=LabelEncoder()\n",
    "df['label']=le.fit_transform(df['label'])\n",
    "df['label']"
   ]
  },
  {
   "cell_type": "code",
   "execution_count": null,
   "id": "84154e03-df27-4082-b25c-da838ba02b4e",
   "metadata": {},
   "outputs": [],
   "source": []
  },
  {
   "cell_type": "code",
   "execution_count": null,
   "id": "26d2f944-25ab-4bea-80cc-ea8b3cb443fb",
   "metadata": {},
   "outputs": [],
   "source": [
    "# Print all label mappings\n",
    "for index, label in enumerate(le.classes_):\n",
    "    print(f\"{label} --> {index}\")"
   ]
  },
  {
   "cell_type": "code",
   "execution_count": null,
   "id": "4f190c9d-4452-4c0a-a4da-d03f3ce38af4",
   "metadata": {},
   "outputs": [],
   "source": [
    "df.label.value_counts()"
   ]
  },
  {
   "cell_type": "code",
   "execution_count": null,
   "id": "33ece2ef-1285-4b91-bbb1-8a42da21e8d9",
   "metadata": {},
   "outputs": [],
   "source": [
    "df.columns"
   ]
  },
  {
   "cell_type": "code",
   "execution_count": null,
   "id": "2e83fee2-f559-493c-8a96-db67975372bf",
   "metadata": {},
   "outputs": [],
   "source": [
    "def selectKBest(indep_X,dep_Y,n):\n",
    "    test = SelectKBest(score_func=chi2, k=n)\n",
    "    fit1= test.fit(indep_X,dep_Y)\n",
    "    selectk_features = fit1.transform(indep_X)\n",
    "    return selectk_features"
   ]
  },
  {
   "cell_type": "code",
   "execution_count": null,
   "id": "e923bab2-dd66-4a0f-acc9-935107f331f5",
   "metadata": {},
   "outputs": [],
   "source": [
    "independent_X=df.drop('label', axis=1)"
   ]
  },
  {
   "cell_type": "code",
   "execution_count": null,
   "id": "09b39721-7707-435d-830f-7eba4fb42e8e",
   "metadata": {},
   "outputs": [],
   "source": [
    "dependent_Y=df['label']"
   ]
  },
  {
   "cell_type": "code",
   "execution_count": null,
   "id": "78a3b3d7-9928-46ca-91c7-bcca4dc0e578",
   "metadata": {},
   "outputs": [],
   "source": []
  },
  {
   "cell_type": "code",
   "execution_count": null,
   "id": "37790b92-6be5-451e-95e8-e326da0db1f7",
   "metadata": {},
   "outputs": [],
   "source": [
    "kbest=selectKBest(independent_X,dependent_Y,5)"
   ]
  },
  {
   "cell_type": "code",
   "execution_count": null,
   "id": "515834ed-6f0b-4a5a-a040-ee58c9b22b86",
   "metadata": {},
   "outputs": [],
   "source": [
    "acclog=[]\n",
    "accsvml=[]\n",
    "accsvmnl=[]\n",
    "accknn=[]\n",
    "accnav=[]\n",
    "accdes=[]\n",
    "accrf=[]"
   ]
  },
  {
   "cell_type": "code",
   "execution_count": null,
   "id": "7a5c9507-dff1-4304-bc79-e37ff06f5b7c",
   "metadata": {},
   "outputs": [],
   "source": [
    "kbest"
   ]
  },
  {
   "cell_type": "code",
   "execution_count": null,
   "id": "e28ef93a-09ba-4d4c-8e24-25dc71e41ddf",
   "metadata": {},
   "outputs": [],
   "source": [
    "x_train,x_test,y_train,y_test=split_scalar(kbest,dependent_Y)\n",
    "\n",
    "classifier,Accuracy,report,x_test,y_test,cm=logistic(x_train,y_train,x_test)\n",
    "acclog.append(Accuracy)\n",
    "classifier,Accuracy,report,x_test,y_test,cm=svm_linear(x_train,y_train,x_test)\n",
    "accsvml.append(Accuracy)\n",
    "classifier,Accuracy,report,x_test,y_test,cm=svm_NL(x_train,y_train,x_test)\n",
    "accsvmnl.append(Accuracy)\n",
    "classifier,Accuracy,report,x_test,y_test,cm=knn(x_train,y_train,x_test)\n",
    "accknn.append(Accuracy)\n",
    "classifier,Accuracy,report,x_test,y_test,cm=Navie(x_train,y_train,x_test)\n",
    "accnav.append(Accuracy)\n",
    "classifier,Accuracy,report,x_test,y_test,cm=Decision(x_train,y_train,x_test)\n",
    "accdes.append(Accuracy)\n",
    "classifier,Accuracy,report,x_test,y_test,cm=random(x_train,y_train,x_test)\n",
    "accrf.append(Accuracy)\n",
    "result=selectk_Classification(acclog,accsvml,accsvmnl,accknn,accnav,accdes,accrf)\n"
   ]
  },
  {
   "cell_type": "code",
   "execution_count": null,
   "id": "59990795-576c-4b19-afd6-55ed2873a11f",
   "metadata": {},
   "outputs": [],
   "source": []
  },
  {
   "cell_type": "code",
   "execution_count": null,
   "id": "d55e6635-5c9f-4722-b8de-5d32de617af6",
   "metadata": {},
   "outputs": [],
   "source": []
  }
 ],
 "metadata": {
  "kernelspec": {
   "display_name": "Python 3 (ipykernel)",
   "language": "python",
   "name": "python3"
  },
  "language_info": {
   "codemirror_mode": {
    "name": "ipython",
    "version": 3
   },
   "file_extension": ".py",
   "mimetype": "text/x-python",
   "name": "python",
   "nbconvert_exporter": "python",
   "pygments_lexer": "ipython3",
   "version": "3.11.5"
  }
 },
 "nbformat": 4,
 "nbformat_minor": 5
}
