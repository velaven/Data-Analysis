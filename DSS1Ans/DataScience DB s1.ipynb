{
 "cells": [
  {
   "cell_type": "code",
   "execution_count": 1,
   "id": "25aa87d1-545b-4263-a3d1-3dfadf170b64",
   "metadata": {},
   "outputs": [
    {
     "name": "stdout",
     "output_type": "stream",
     "text": [
      "Average Age: 30.0\n"
     ]
    }
   ],
   "source": [
    "import pandas as pd  \n",
    "\n",
    "data = {'Name': ['Alice', 'Bob', 'Charlie'], \n",
    "        'Age': [25, 30, 35],  \n",
    "        'Gender': ['F', 'M', 'M']}  \n",
    "\n",
    "df = pd.DataFrame(data)\n",
    "\n",
    "average_age = df['Age'].mean()\n",
    "\n",
    "print(f\"Average Age: {average_age}\")\n"
   ]
  },
  {
   "cell_type": "code",
   "execution_count": 2,
   "id": "7020379d-a6fd-45c4-9163-12e6c9fa586a",
   "metadata": {},
   "outputs": [
    {
     "name": "stdout",
     "output_type": "stream",
     "text": [
      "3.25 7.75\n"
     ]
    }
   ],
   "source": [
    "import numpy as np\n",
    "\n",
    "data = [1, 2, 3, 4, 5, 6, 7, 8, 9, 10]\n",
    "\n",
    "q1, q3 = np.percentile(data, [25, 75])\n",
    "\n",
    "print(q1, q3)"
   ]
  },
  {
   "cell_type": "code",
   "execution_count": 3,
   "id": "f96c54c9-5d7c-4361-92c8-930240daec17",
   "metadata": {},
   "outputs": [],
   "source": [
    "import numpy as np\n",
    "from scipy.stats import zscore\n",
    "\n",
    "data = [1, 2, 3, 100, 5, 6, 7, 8, 9]\n",
    "\n",
    "outliers = [i for i in data\n",
    "            if abs( zscore(data)[data.index(i)]) > 2]\n",
    "#second method\n",
    "data=np.array([1,2,3,100,5,6,7,8,9])\n",
    "outliers = data[np.abs(zscore(data))>2]\n"
   ]
  },
  {
   "cell_type": "code",
   "execution_count": 4,
   "id": "6f27bdcd-6a3d-4b18-b9b9-811533670b55",
   "metadata": {},
   "outputs": [
    {
     "name": "stdout",
     "output_type": "stream",
     "text": [
      "nan\n"
     ]
    }
   ],
   "source": [
    "from scipy.stats import norm\n",
    "\n",
    "pdf_val = norm.pdf(2, 0, -1)\n",
    "print(pdf_val)\n"
   ]
  },
  {
   "cell_type": "code",
   "execution_count": 5,
   "id": "2b382911-d46b-4b5b-9d99-e56ebe181cff",
   "metadata": {},
   "outputs": [
    {
     "data": {
      "text/plain": [
       "<seaborn.axisgrid.PairGrid at 0x217f22a5a90>"
      ]
     },
     "execution_count": 5,
     "metadata": {},
     "output_type": "execute_result"
    },
    {
     "data": {
      "image/png": "[encoded data removed]",
      "text/plain": [
       "<Figure size 559.5x500 with 6 Axes>"
      ]
     },
     "metadata": {},
     "output_type": "display_data"
    }
   ],
   "source": [
    "import seaborn as sns\n",
    "import pandas as pd\n",
    "\n",
    "df = pd.DataFrame({'A': [1, 2, 3], 'B': [4, 5, 6],'C': ['X','Y','Z']})\n",
    "sns.pairplot(df, hue='C')\n"
   ]
  },
  {
   "cell_type": "code",
   "execution_count": 6,
   "id": "ed365185-1408-4dd5-94c9-804168cc3997",
   "metadata": {},
   "outputs": [
    {
     "name": "stdout",
     "output_type": "stream",
     "text": [
      "[[1.66666667 3.33333333]\n",
      " [3.33333333 6.66666667]]\n"
     ]
    }
   ],
   "source": [
    "import numpy as np\n",
    "\n",
    "x = [1, 2, 3, 4]\n",
    "y = [2, 4, 6, 8]\n",
    "#stack the arrays vertically to create a 2D array\n",
    "data = np.vstack((x, y))\n",
    "#calculate the covariance matrix\n",
    "cov_matrix = np.cov(data)\n",
    "print(cov_matrix)\n"
   ]
  },
  {
   "cell_type": "code",
   "execution_count": 7,
   "id": "5187ae81-7bfa-4341-8ebd-48ca5d4dce34",
   "metadata": {},
   "outputs": [
    {
     "name": "stdout",
     "output_type": "stream",
     "text": [
      "Mean: 6.0\n"
     ]
    }
   ],
   "source": [
    "import numpy as np\n",
    "\n",
    "data = [2, 4, 6, 8, 10]\n",
    "\n",
    "mean_value =np.mean(data)\n",
    "print(f\"Mean: {mean_value}\")\n"
   ]
  },
  {
   "cell_type": "code",
   "execution_count": 8,
   "id": "21d122cb-9050-449a-9fa8-88cf6d147b2c",
   "metadata": {},
   "outputs": [
    {
     "name": "stdout",
     "output_type": "stream",
     "text": [
      "   A  B\n",
      "0  1  0\n",
      "1  2  5\n",
      "2  0  6\n",
      "3  4  0\n"
     ]
    }
   ],
   "source": [
    "import pandas as pd\n",
    "import numpy as np\n",
    "\n",
    "data = {'A': [1, 2, 0, 4], 'B': [0, 5, 6, 0]}\n",
    "df = pd.DataFrame(data)\n",
    "\n",
    "df.replace(0, 0, inplace=False)  \n",
    "print(df)"
   ]
  },
  {
   "cell_type": "code",
   "execution_count": 9,
   "id": "73b1e6ea-1fb2-454b-accc-ac7eacaf13d2",
   "metadata": {},
   "outputs": [
    {
     "name": "stdout",
     "output_type": "stream",
     "text": [
      "Correlation using numpy:\n",
      " 1.0\n"
     ]
    },
    {
     "ename": "NameError",
     "evalue": "name 'correlation' is not defined",
     "output_type": "error",
     "traceback": [
      "\u001b[31m----------------------------------------------------------------\u001b[39m",
      "\u001b[31mNameError\u001b[39m                      Traceback (most recent call last)",
      "\u001b[36mCell\u001b[39m\u001b[36m \u001b[39m\u001b[32mIn[9]\u001b[39m\u001b[32m, line 9\u001b[39m\n\u001b[32m      7\u001b[39m correlation_np = np.corrcoef(df[\u001b[33m'\u001b[39m\u001b[33mA\u001b[39m\u001b[33m'\u001b[39m], df[\u001b[33m'\u001b[39m\u001b[33mB\u001b[39m\u001b[33m'\u001b[39m])[\u001b[32m0\u001b[39m, \u001b[32m1\u001b[39m]\n\u001b[32m      8\u001b[39m \u001b[38;5;28mprint\u001b[39m(\u001b[33m\"\u001b[39m\u001b[33mCorrelation using numpy:\u001b[39m\u001b[38;5;130;01m\\n\u001b[39;00m\u001b[33m\"\u001b[39m, correlation_np)\n\u001b[32m----> \u001b[39m\u001b[32m9\u001b[39m \u001b[38;5;28mprint\u001b[39m(\u001b[33m\"\u001b[39m\u001b[33mCorrelation:\u001b[39m\u001b[38;5;130;01m\\n\u001b[39;00m\u001b[33m\"\u001b[39m, \u001b[43mcorrelation\u001b[49m)\n",
      "\u001b[31mNameError\u001b[39m: name 'correlation' is not defined"
     ]
    }
   ],
   "source": [
    "import numpy as np\n",
    "import pandas as pd\n",
    "\n",
    "data = {'A': [1, 2, 3, 4], 'B': [5, 6, 7, 8]}\n",
    "df = pd.DataFrame(data)\n",
    "\n",
    "correlation_np = np.corrcoef(df['A'], df['B'])[0, 1]\n",
    "print(\"Correlation using numpy:\\n\", correlation_np)\n",
    "print(\"Correlation:\\n\", correlation)\n"
   ]
  },
  {
   "cell_type": "code",
   "execution_count": null,
   "id": "c086ad6b-339b-4834-a7a8-cdc1a0467a88",
   "metadata": {},
   "outputs": [],
   "source": [
    "import pandas as pd\n",
    "correlation_pd = df['A'].corr(df['B'])\n",
    "print(\"Correlation using pandas:\\n\", correlation_pd)"
   ]
  },
  {
   "cell_type": "markdown",
   "id": "11f83c2f-3772-4d31-89b1-b462433c091f",
   "metadata": {},
   "source": [
    "#Coding"
   ]
  },
  {
   "cell_type": "code",
   "execution_count": null,
   "id": "5a9a321b-e6d8-4286-b23c-857a0168a84d",
   "metadata": {},
   "outputs": [],
   "source": [
    "import pandas as pd\n",
    "data = {'Customer_ID': [101, 102, 103, 101, 104, 102, 101, 105, 102, 103],\n",
    "        'Purchase_Amount': [200, 150, 180, 220, 300, 200, 100, 400, 250, 300]}\n",
    "df =pd.DataFrame(data)"
   ]
  },
  {
   "cell_type": "code",
   "execution_count": null,
   "id": "d972a981-85ac-4e14-95aa-cb5db18bde73",
   "metadata": {},
   "outputs": [],
   "source": [
    "df"
   ]
  },
  {
   "cell_type": "code",
   "execution_count": null,
   "id": "aeddcac2-ed30-47b1-ab77-4bda80afc04e",
   "metadata": {},
   "outputs": [],
   "source": [
    "#Group by Customer_ID  and count the number of purchases\n",
    "customer_purchases=df['Customer_ID'].value_counts().reset_index()"
   ]
  },
  {
   "cell_type": "code",
   "execution_count": null,
   "id": "cc126df5-5e4a-49da-a0e3-2b862c2f5e6f",
   "metadata": {},
   "outputs": [],
   "source": [
    "customer_purchases"
   ]
  },
  {
   "cell_type": "code",
   "execution_count": null,
   "id": "f076d472-37b3-4d38-ab46-f50c794fb9d5",
   "metadata": {},
   "outputs": [],
   "source": [
    "customer_purchases.columns=['Customer_ID','Total_Purchases']"
   ]
  },
  {
   "cell_type": "code",
   "execution_count": null,
   "id": "51257e32-7bbf-43d2-a591-4396d27d5068",
   "metadata": {},
   "outputs": [],
   "source": [
    "customer_purchases.columns"
   ]
  },
  {
   "cell_type": "code",
   "execution_count": null,
   "id": "bab7dc90-6478-44d7-bdd5-88c53b86be10",
   "metadata": {},
   "outputs": [],
   "source": [
    "#sort by Total_Purchases in descending order and select top 3\n",
    "top_3_frequent_customers=customer_purchases.sort_values(by='Total_Purchases',ascending=False).head(3)"
   ]
  },
  {
   "cell_type": "code",
   "execution_count": null,
   "id": "148101c7-4a5c-44a6-bf06-e63a734b7fdd",
   "metadata": {},
   "outputs": [],
   "source": [
    "print(top_3_frequent_customers)"
   ]
  },
  {
   "cell_type": "code",
   "execution_count": null,
   "id": "06fd4b74-52a5-4f2f-b5cc-5b5943c4cb97",
   "metadata": {},
   "outputs": [],
   "source": [
    "import pandas as pd\n",
    "import numpy as np\n",
    "data = {'Day': range(1, 31),\n",
    "        'Sales': [25, 30, 28, 45, 55, 60, 22, 80, 95, 120,\n",
    "                  33, 29, 27, 35, 40, 50, 85, 110, 105, 92,\n",
    "                  30, 34, 31, 33, 36, 42, 44, 48, 90, 200]}\n",
    "df=pd.DataFrame(data)"
   ]
  },
  {
   "cell_type": "code",
   "execution_count": null,
   "id": "afca71be-29fa-4c93-a4b7-676bac2706f2",
   "metadata": {},
   "outputs": [],
   "source": [
    "#1.Calculate the Q1 (25th percentile) and Q3 (75th percentile).\n",
    "#2. Determine the IQR.\n",
    "#3. Identify the Lower Bound and Upper Bound.\n",
    "#4. Detect and display the outliers.\n",
    "#5. Replace the Outliers with the Median Value.\n"
   ]
  },
  {
   "cell_type": "code",
   "execution_count": null,
   "id": "947518a2-bb19-42c2-9287-0879c9a9227e",
   "metadata": {},
   "outputs": [],
   "source": [
    "df"
   ]
  },
  {
   "cell_type": "code",
   "execution_count": null,
   "id": "673bbec2-1069-4351-9fe8-c6415871cc78",
   "metadata": {},
   "outputs": [],
   "source": [
    "#calculate Q1&Q3\n",
    "Q1=df['Sales'].quantile(0.25)\n",
    "Q3=df['Sales'].quantile(0.75)"
   ]
  },
  {
   "cell_type": "code",
   "execution_count": null,
   "id": "ee346b82-57b9-4e84-8546-c9ef176c8881",
   "metadata": {},
   "outputs": [],
   "source": [
    "print(f\"Q1 (25th percentile): {Q1}\")\n",
    "print(f\"Q3 (75th percentile): {Q3}\")"
   ]
  },
  {
   "cell_type": "code",
   "execution_count": null,
   "id": "0a44c87f-ef2a-4412-b279-a917e92036a9",
   "metadata": {},
   "outputs": [],
   "source": [
    "#calculate IQR\n",
    "IQR=Q3-Q1\n",
    "print(f\"IQR: {IQR}\")"
   ]
  },
  {
   "cell_type": "code",
   "execution_count": null,
   "id": "3b3383f7-c281-4f55-88b0-d5407fca1ddc",
   "metadata": {},
   "outputs": [],
   "source": [
    "#lower bound-Q1-1.5*IQR &Upper bound-Q3+1.5*IQR\n",
    "\n",
    "lower_bound = Q1 - 1.5 * IQR\n",
    "upper_bound = Q3 + 1.5 * IQR\n",
    "print(f\"Lower Bound: {lower_bound}\")\n",
    "print(f\"Upper Bound: {upper_bound}\")"
   ]
  },
  {
   "cell_type": "code",
   "execution_count": null,
   "id": "3ee1f52c-07da-4a76-8315-460407db5ab9",
   "metadata": {},
   "outputs": [],
   "source": [
    "#detect outliers\n",
    "outliers = df[(df['Sales'] < lower_bound) / (df['Sales'] > upper_bound)]\n",
    "print(\"Outliers:\")\n",
    "print(outliers)"
   ]
  },
  {
   "cell_type": "code",
   "execution_count": null,
   "id": "964fb0fc-4914-4093-9c4c-f9ca2a25bd81",
   "metadata": {},
   "outputs": [],
   "source": [
    "print(\"Outliers:\")"
   ]
  },
  {
   "cell_type": "code",
   "execution_count": null,
   "id": "fc6ecd73-b731-4021-ad1a-4c41b55ff2e9",
   "metadata": {},
   "outputs": [],
   "source": [
    "print(outliers)"
   ]
  },
  {
   "cell_type": "code",
   "execution_count": null,
   "id": "b61766c5-1381-41c2-a26e-6306fa9df598",
   "metadata": {},
   "outputs": [],
   "source": [
    "#Replace outliers with median value\n",
    "#calculate median value\n",
    "medin_sales = df['Sales'].median()\n",
    "df.loc[(df['Sales'] <lower_bound) / (df['Sales'] > upper_bound), 'Sales'] = median_sales"
   ]
  },
  {
   "cell_type": "code",
   "execution_count": null,
   "id": "eac58370-4580-4bc1-8956-e3c7473c1046",
   "metadata": {},
   "outputs": [],
   "source": [
    "print(\"DataFrame after replacing outliers with median:\")\n",
    "print(df)"
   ]
  },
  {
   "cell_type": "code",
   "execution_count": null,
   "id": "9815ac1d-d07f-46f0-a858-4cb2707fcba0",
   "metadata": {},
   "outputs": [],
   "source": [
    "print(df)"
   ]
  },
  {
   "cell_type": "code",
   "execution_count": 10,
   "id": "267f088f-b66d-40f7-85ac-8b9d91c5b64d",
   "metadata": {},
   "outputs": [],
   "source": [
    "import pandas as pd\n",
    "from scipy import stats\n",
    "data = {'Group': ['Treatment']*10 + ['Control']*10,\n",
    "        'Blood_Pressure': [120, 115, 118, 123, 122, 119, 124, 117, 116, 121,\n",
    "                            130, 135, 140, 138, 142, 136, 139, 134, 137, 141]}\n",
    "df = pd.DataFrame(data)\n",
    "#Tasks:\n",
    "#1.\tPerform an Independent T-Test.\n",
    "#2.\tState the null and alternative hypotheses.\n",
    "#3.\tCalculate the p-value.\n",
    "#4.\tConclude whether the drug has a significant effect.\n"
   ]
  },
  {
   "cell_type": "code",
   "execution_count": 11,
   "id": "75c52756-b2b8-4151-b317-b43f2044b862",
   "metadata": {},
   "outputs": [
    {
     "data": {
      "text/html": [
       "<div>\n",
       "<style scoped>\n",
       "    .dataframe tbody tr th:only-of-type {\n",
       "        vertical-align: middle;\n",
       "    }\n",
       "\n",
       "    .dataframe tbody tr th {\n",
       "        vertical-align: top;\n",
       "    }\n",
       "\n",
       "    .dataframe thead th {\n",
       "        text-align: right;\n",
       "    }\n",
       "</style>\n",
       "<table border=\"1\" class=\"dataframe\">\n",
       "  <thead>\n",
       "    <tr style=\"text-align: right;\">\n",
       "      <th></th>\n",
       "      <th>Group</th>\n",
       "      <th>Blood_Pressure</th>\n",
       "    </tr>\n",
       "  </thead>\n",
       "  <tbody>\n",
       "    <tr>\n",
       "      <th>0</th>\n",
       "      <td>Treatment</td>\n",
       "      <td>120</td>\n",
       "    </tr>\n",
       "    <tr>\n",
       "      <th>1</th>\n",
       "      <td>Treatment</td>\n",
       "      <td>115</td>\n",
       "    </tr>\n",
       "    <tr>\n",
       "      <th>2</th>\n",
       "      <td>Treatment</td>\n",
       "      <td>118</td>\n",
       "    </tr>\n",
       "    <tr>\n",
       "      <th>3</th>\n",
       "      <td>Treatment</td>\n",
       "      <td>123</td>\n",
       "    </tr>\n",
       "    <tr>\n",
       "      <th>4</th>\n",
       "      <td>Treatment</td>\n",
       "      <td>122</td>\n",
       "    </tr>\n",
       "    <tr>\n",
       "      <th>5</th>\n",
       "      <td>Treatment</td>\n",
       "      <td>119</td>\n",
       "    </tr>\n",
       "    <tr>\n",
       "      <th>6</th>\n",
       "      <td>Treatment</td>\n",
       "      <td>124</td>\n",
       "    </tr>\n",
       "    <tr>\n",
       "      <th>7</th>\n",
       "      <td>Treatment</td>\n",
       "      <td>117</td>\n",
       "    </tr>\n",
       "    <tr>\n",
       "      <th>8</th>\n",
       "      <td>Treatment</td>\n",
       "      <td>116</td>\n",
       "    </tr>\n",
       "    <tr>\n",
       "      <th>9</th>\n",
       "      <td>Treatment</td>\n",
       "      <td>121</td>\n",
       "    </tr>\n",
       "    <tr>\n",
       "      <th>10</th>\n",
       "      <td>Control</td>\n",
       "      <td>130</td>\n",
       "    </tr>\n",
       "    <tr>\n",
       "      <th>11</th>\n",
       "      <td>Control</td>\n",
       "      <td>135</td>\n",
       "    </tr>\n",
       "    <tr>\n",
       "      <th>12</th>\n",
       "      <td>Control</td>\n",
       "      <td>140</td>\n",
       "    </tr>\n",
       "    <tr>\n",
       "      <th>13</th>\n",
       "      <td>Control</td>\n",
       "      <td>138</td>\n",
       "    </tr>\n",
       "    <tr>\n",
       "      <th>14</th>\n",
       "      <td>Control</td>\n",
       "      <td>142</td>\n",
       "    </tr>\n",
       "    <tr>\n",
       "      <th>15</th>\n",
       "      <td>Control</td>\n",
       "      <td>136</td>\n",
       "    </tr>\n",
       "    <tr>\n",
       "      <th>16</th>\n",
       "      <td>Control</td>\n",
       "      <td>139</td>\n",
       "    </tr>\n",
       "    <tr>\n",
       "      <th>17</th>\n",
       "      <td>Control</td>\n",
       "      <td>134</td>\n",
       "    </tr>\n",
       "    <tr>\n",
       "      <th>18</th>\n",
       "      <td>Control</td>\n",
       "      <td>137</td>\n",
       "    </tr>\n",
       "    <tr>\n",
       "      <th>19</th>\n",
       "      <td>Control</td>\n",
       "      <td>141</td>\n",
       "    </tr>\n",
       "  </tbody>\n",
       "</table>\n",
       "</div>"
      ],
      "text/plain": [
       "        Group  Blood_Pressure\n",
       "0   Treatment             120\n",
       "1   Treatment             115\n",
       "2   Treatment             118\n",
       "3   Treatment             123\n",
       "4   Treatment             122\n",
       "5   Treatment             119\n",
       "6   Treatment             124\n",
       "7   Treatment             117\n",
       "8   Treatment             116\n",
       "9   Treatment             121\n",
       "10    Control             130\n",
       "11    Control             135\n",
       "12    Control             140\n",
       "13    Control             138\n",
       "14    Control             142\n",
       "15    Control             136\n",
       "16    Control             139\n",
       "17    Control             134\n",
       "18    Control             137\n",
       "19    Control             141"
      ]
     },
     "execution_count": 11,
     "metadata": {},
     "output_type": "execute_result"
    }
   ],
   "source": [
    "df"
   ]
  },
  {
   "cell_type": "code",
   "execution_count": 12,
   "id": "3994c8d4-71d6-41fc-add5-381c3dfe6421",
   "metadata": {},
   "outputs": [],
   "source": [
    "treatment_group = df[df['Group'] == 'Treatment']['Blood_Pressure']\n",
    "control_group = df[df['Group'] == 'Control']['Blood_Pressure']"
   ]
  },
  {
   "cell_type": "code",
   "execution_count": 13,
   "id": "0f561354-90b9-426c-8447-2365f4c84235",
   "metadata": {},
   "outputs": [],
   "source": [
    "#perform Independece\n",
    "t_stat, p_value = stats.ttest_ind(df.loc[df['Group'] =='Treatment', 'Blood_Pressure'],\n",
    "                                          df.loc[df['Group'] == 'Control', 'Blood_Pressure'],    #perform IndependentT-test\n",
    "                                          equal_var=True)"
   ]
  },
  {
   "cell_type": "code",
   "execution_count": 14,
   "id": "512b8278-9709-4fab-bb84-a975b3478c99",
   "metadata": {},
   "outputs": [
    {
     "name": "stdout",
     "output_type": "stream",
     "text": [
      "T-Statistic: -11.870553692962726\n",
      "p-value: 6.008066605173374e-10\n"
     ]
    }
   ],
   "source": [
    "#Display Results\n",
    "print(f\"T-Statistic: {t_stat}\")\n",
    "print(f\"p-value: {p_value}\")"
   ]
  },
  {
   "cell_type": "code",
   "execution_count": 18,
   "id": "3d66492c-7246-4239-a23d-5009dc022dcc",
   "metadata": {},
   "outputs": [
    {
     "name": "stdout",
     "output_type": "stream",
     "text": [
      "Reject the null hypothesis. The drug has a significant effect on blood pressure.\n"
     ]
    }
   ],
   "source": [
    "#set significance level\n",
    "alpha =0.05\n",
    "#check if p-value is less than alpha\n",
    "if p_value < alpha:\n",
    "    print(\"Reject the null hypothesis. The drug has a significant effect on blood pressure.\")\n",
    "else:\n",
    "    print(\"Fail to reject the null hypothesis. The drug does not have a significant effect on blood pressure.\")"
   ]
  },
  {
   "cell_type": "code",
   "execution_count": 19,
   "id": "309add89-9960-4d32-93fa-94c7826fd69e",
   "metadata": {},
   "outputs": [
    {
     "data": {
      "text/html": [
       "<div>\n",
       "<style scoped>\n",
       "    .dataframe tbody tr th:only-of-type {\n",
       "        vertical-align: middle;\n",
       "    }\n",
       "\n",
       "    .dataframe tbody tr th {\n",
       "        vertical-align: top;\n",
       "    }\n",
       "\n",
       "    .dataframe thead th {\n",
       "        text-align: right;\n",
       "    }\n",
       "</style>\n",
       "<table border=\"1\" class=\"dataframe\">\n",
       "  <thead>\n",
       "    <tr style=\"text-align: right;\">\n",
       "      <th></th>\n",
       "      <th>Region</th>\n",
       "      <th>TV_Ad_Budget</th>\n",
       "      <th>Social_Media_Budget</th>\n",
       "      <th>Sales</th>\n",
       "    </tr>\n",
       "  </thead>\n",
       "  <tbody>\n",
       "    <tr>\n",
       "      <th>0</th>\n",
       "      <td>North</td>\n",
       "      <td>200</td>\n",
       "      <td>150</td>\n",
       "      <td>20</td>\n",
       "    </tr>\n",
       "    <tr>\n",
       "      <th>1</th>\n",
       "      <td>South</td>\n",
       "      <td>300</td>\n",
       "      <td>250</td>\n",
       "      <td>35</td>\n",
       "    </tr>\n",
       "    <tr>\n",
       "      <th>2</th>\n",
       "      <td>East</td>\n",
       "      <td>400</td>\n",
       "      <td>300</td>\n",
       "      <td>50</td>\n",
       "    </tr>\n",
       "    <tr>\n",
       "      <th>3</th>\n",
       "      <td>West</td>\n",
       "      <td>500</td>\n",
       "      <td>450</td>\n",
       "      <td>60</td>\n",
       "    </tr>\n",
       "    <tr>\n",
       "      <th>4</th>\n",
       "      <td>Central</td>\n",
       "      <td>600</td>\n",
       "      <td>500</td>\n",
       "      <td>80</td>\n",
       "    </tr>\n",
       "  </tbody>\n",
       "</table>\n",
       "</div>"
      ],
      "text/plain": [
       "    Region  TV_Ad_Budget  Social_Media_Budget  Sales\n",
       "0    North           200                  150     20\n",
       "1    South           300                  250     35\n",
       "2     East           400                  300     50\n",
       "3     West           500                  450     60\n",
       "4  Central           600                  500     80"
      ]
     },
     "execution_count": 19,
     "metadata": {},
     "output_type": "execute_result"
    }
   ],
   "source": [
    "import pandas as pd\n",
    "import numpy as np\n",
    "data = {\n",
    "    'Region': ['North', 'South', 'East', 'West', 'Central'],\n",
    "    'TV_Ad_Budget': [200, 300, 400, 500, 600],\n",
    "    'Social_Media_Budget': [150, 250, 300, 450, 500],\n",
    "    'Sales': [20, 35, 50, 60, 80]\n",
    "}\n",
    "df = pd.DataFrame(data)\n",
    "df"
   ]
  },
  {
   "cell_type": "code",
   "execution_count": 20,
   "id": "b9ab079b-34b7-4736-aeb0-d33ea53fc666",
   "metadata": {},
   "outputs": [],
   "source": [
    "#calculate covariance\n",
    "cov_tv = df['TV_Ad_Budget'].cov(df['Sales'])\n",
    "cov_social = df['Social_Media_Budget'].cov(df['Sales'])"
   ]
  },
  {
   "cell_type": "code",
   "execution_count": 21,
   "id": "64f16903-d205-4eed-8d63-2886c5177075",
   "metadata": {},
   "outputs": [],
   "source": [
    "#calculate correlation\n",
    "corr_tv = df['TV_Ad_Budget'].corr(df['Sales'])\n",
    "corr_social = df['Social_Media_Budget'].corr(df['Sales'])"
   ]
  },
  {
   "cell_type": "code",
   "execution_count": 23,
   "id": "7e996fa4-6f04-4809-a9fc-cd8fd37cf693",
   "metadata": {},
   "outputs": [
    {
     "name": "stdout",
     "output_type": "stream",
     "text": [
      "Covariance (TV vs Sales): 3625.0\n",
      "Covriance(Social Media vs Sales): 3225.0\n",
      "Correlation(TV vs Sales): 0.9958640886279954\n",
      "Correlation (Social Media vs Sales): 0.9724846021568381\n"
     ]
    }
   ],
   "source": [
    "print(f\"Covariance (TV vs Sales): {cov_tv}\")\n",
    "print(f\"Covriance(Social Media vs Sales): {cov_social}\")\n",
    "print(f\"Correlation(TV vs Sales): {corr_tv}\")\n",
    "print(f\"Correlation (Social Media vs Sales): {corr_social}\")"
   ]
  },
  {
   "cell_type": "code",
   "execution_count": 24,
   "id": "6cfe83e0-086d-45d4-8f3f-11dcf186d593",
   "metadata": {},
   "outputs": [
    {
     "name": "stdout",
     "output_type": "stream",
     "text": [
      "TV Ads have a stronger impact on Sales,\n"
     ]
    }
   ],
   "source": [
    "#conclusion\n",
    "if abs(corr_tv) > abs(corr_social):\n",
    "    print(\"TV Ads have a stronger impact on Sales,\")\n",
    "else:\n",
    "    print(\"Social Media Ads have a stronger impact on Sales.\")"
   ]
  },
  {
   "cell_type": "code",
   "execution_count": 25,
   "id": "94d7466e-1241-483e-a9ef-770ed357201f",
   "metadata": {},
   "outputs": [],
   "source": [
    "import numpy as np\n",
    "import matplotlib.pyplot as plt\n",
    "from scipy.stats import norm"
   ]
  },
  {
   "cell_type": "code",
   "execution_count": 26,
   "id": "d128d3b4-1d79-47ef-b5a6-9877b009589d",
   "metadata": {},
   "outputs": [],
   "source": [
    "# Dataset: Delivery Times in Minutes\n",
    "delivery_times = [25, 30, 28, 45, 55, 60, 22, 80, 95, 120, 33, 29, 27, 35, 40, 50, \n",
    "                   85, 110, 105, 92, 30, 34, 31, 33, 36, 42, 44, 48, 90, 200, 20, \n",
    "                   25, 27, 32, 38, 41, 47, 58, 62, 77, 80, 84, 90, 110, 123, 145, \n",
    "                   150, 160]"
   ]
  },
  {
   "cell_type": "code",
   "execution_count": 27,
   "id": "f9ce17bf-cb9c-463b-885e-8f5d46aa196c",
   "metadata": {},
   "outputs": [],
   "source": [
    "#Calculate Mean and Standard Deviation\n",
    "mean_delivery = np.mean(delivery_times)\n",
    "std_dev_delivery = np.std(delivery_times)"
   ]
  },
  {
   "cell_type": "code",
   "execution_count": 29,
   "id": "0fef80ff-684d-4f31-a726-371318e598d2",
   "metadata": {},
   "outputs": [
    {
     "name": "stdout",
     "output_type": "stream",
     "text": [
      "Mean Delivery Time: 65.0625\n",
      "Standard Deviation of Delivery time: 41.718504212759115\n"
     ]
    }
   ],
   "source": [
    "print(f\"Mean Delivery Time: {mean_delivery}\")\n",
    "print(f\"Standard Deviation of Delivery time: {std_dev_delivery}\")"
   ]
  },
  {
   "cell_type": "code",
   "execution_count": 30,
   "id": "5facedfb-5c63-4b5b-8648-bf495e95a7dd",
   "metadata": {},
   "outputs": [
    {
     "data": {
      "image/png": "[encoded data removed]",
      "text/plain": [
       "<Figure size 1000x500 with 1 Axes>"
      ]
     },
     "metadata": {},
     "output_type": "display_data"
    }
   ],
   "source": [
    "# Plotting PDF\n",
    "x = np.linspace(min(delivery_times), max(delivery_times), 100)\n",
    "pdf = norm.pdf(x, mean_delivery, std_dev_delivery)\n",
    "\n",
    "plt.figure(figsize=(10, 5))\n",
    "plt.plot(x, pdf, color='red', label='Normal Distribution (PDF)')\n",
    "plt.xlabel('Delivery Time (minutes)')\n",
    "plt.ylabel('Density')\n",
    "plt.title('Probability Density Function (PDF)')\n",
    "plt.legend()\n",
    "plt.show()"
   ]
  },
  {
   "cell_type": "code",
   "execution_count": null,
   "id": "dda58bf2-f129-4faa-a8e0-1726538de84c",
   "metadata": {},
   "outputs": [],
   "source": []
  }
 ],
 "metadata": {
  "kernelspec": {
   "display_name": "Python 3 (ipykernel)",
   "language": "python",
   "name": "python3"
  },
  "language_info": {
   "codemirror_mode": {
    "name": "ipython",
    "version": 3
   },
   "file_extension": ".py",
   "mimetype": "text/x-python",
   "name": "python",
   "nbconvert_exporter": "python",
   "pygments_lexer": "ipython3",
   "version": "3.11.5"
  }
 },
 "nbformat": 4,
 "nbformat_minor": 5
}
