{
 "cells": [
  {
   "cell_type": "code",
   "execution_count": 1,
   "id": "d798e102-c3a4-477f-adb0-e5f474f5dddd",
   "metadata": {},
   "outputs": [
    {
     "ename": "ImportError",
     "evalue": "cannot import name 'confusion' from 'sklearn.metrics' (C:\\Users\\Admin\\anaconda3\\envs\\adml\\Lib\\site-packages\\sklearn\\metrics\\__init__.py)",
     "output_type": "error",
     "traceback": [
      "\u001b[31m---------------------------------------------------------------------------\u001b[39m",
      "\u001b[31mImportError\u001b[39m                               Traceback (most recent call last)",
      "\u001b[36mCell\u001b[39m\u001b[36m \u001b[39m\u001b[32mIn[1]\u001b[39m\u001b[32m, line 5\u001b[39m\n\u001b[32m      3\u001b[39m \u001b[38;5;28;01mimport\u001b[39;00m\u001b[38;5;250m \u001b[39m\u001b[34;01mpandas\u001b[39;00m\u001b[38;5;250m \u001b[39m\u001b[38;5;28;01mas\u001b[39;00m\u001b[38;5;250m \u001b[39m\u001b[34;01mpd\u001b[39;00m\n\u001b[32m      4\u001b[39m \u001b[38;5;28;01mfrom\u001b[39;00m\u001b[38;5;250m \u001b[39m\u001b[34;01msklearn\u001b[39;00m\u001b[34;01m.\u001b[39;00m\u001b[34;01mmodel_selection\u001b[39;00m\u001b[38;5;250m \u001b[39m\u001b[38;5;28;01mimport\u001b[39;00m train_test_split\n\u001b[32m----> \u001b[39m\u001b[32m5\u001b[39m \u001b[38;5;28;01mfrom\u001b[39;00m\u001b[38;5;250m \u001b[39m\u001b[34;01msklearn\u001b[39;00m\u001b[34;01m.\u001b[39;00m\u001b[34;01mmetrics\u001b[39;00m\u001b[38;5;250m \u001b[39m\u001b[38;5;28;01mimport\u001b[39;00m accuracy_score,classification_report,confusion\n\u001b[32m      6\u001b[39m \u001b[38;5;28;01mimport\u001b[39;00m\u001b[38;5;250m \u001b[39m\u001b[34;01mtime\u001b[39;00m\n\u001b[32m      7\u001b[39m \u001b[38;5;28;01mimport\u001b[39;00m\u001b[38;5;250m \u001b[39m\u001b[34;01mnumpy\u001b[39;00m\u001b[38;5;250m \u001b[39m\u001b[38;5;28;01mas\u001b[39;00m\u001b[38;5;250m \u001b[39m\u001b[34;01mnp\u001b[39;00m\n",
      "\u001b[31mImportError\u001b[39m: cannot import name 'confusion' from 'sklearn.metrics' (C:\\Users\\Admin\\anaconda3\\envs\\adml\\Lib\\site-packages\\sklearn\\metrics\\__init__.py)"
     ]
    }
   ],
   "source": [
    "import numpy as np\n",
    "import matplotlib.pyplot as plt\n",
    "import pandas as pd\n",
    "from sklearn.model_selection import train_test_split\n",
    "from sklearn.metrics import accuracy_score,classification_report,confusion\n",
    "import time\n",
    "import numpy as np\n",
    "from sklearn.svm import SVC\n",
    "from sklearn.preprocessing import StandardScaler\n",
    "from sklearn.linear_model import LogisticRegression\n",
    "from sklearn.datasets import load_iris\n",
    "import pickle\n",
    "import matplotlib.pyplot as plt\n",
    "from sklearn.ensemble import RandomForestClassifier\n",
    "from sklearn.tree import DecisionTreeClassifier\n",
    "from sklearn.naive_bayes import GaussianNB\n",
    "from sklearn.neighbors import KNeighborsClassifier"
   ]
  },
  {
   "cell_type": "code",
   "execution_count": null,
   "id": "865297b6-b72a-43ac-b014-34b9bb993685",
   "metadata": {},
   "outputs": [],
   "source": [
    "dataset = pd.read_csv('CKD.csv')"
   ]
  },
  {
   "cell_type": "code",
   "execution_count": null,
   "id": "9ee5a7ad-76ae-4bd3-8832-12e14404440d",
   "metadata": {},
   "outputs": [],
   "source": [
    "X = dataset.iloc[:, 0:13].values\n",
    "y = dataset.iloc[:,  13].values"
   ]
  },
  {
   "cell_type": "code",
   "execution_count": null,
   "id": "e11e1ef3-3db2-4a9b-ba87-0db881f4d413",
   "metadata": {},
   "outputs": [],
   "source": [
    "from sklearn.model_selection import train_test_split\n",
    "X_train, X_test, y_train, y_test = train_test_split(X, y, test_size = 0.25,random_state = 0)"
   ]
  },
  {
   "cell_type": "code",
   "execution_count": null,
   "id": "1b5b3681-d180-465b-9ae7-51d3d9da18ca",
   "metadata": {},
   "outputs": [],
   "source": [
    "def split_scalar(indep_X,dep_Y):\n",
    "    X_train, X_test, y_train, y_test = train_test_split(indep_X, dep_Y, test_size = 0.25, random_state = 0)\n",
    "    sc = StandardScaler()\n",
    "    X_train = sc.fit_transform(X_train)\n",
    "    X_test = sc.transform(X_test)\n",
    "    return X_train, X_test, y_train, y_test "
   ]
  },
  {
   "cell_type": "code",
   "execution_count": null,
   "id": "cd5ec4bc-c4d6-4f9e-8f49-e573389cea73",
   "metadata": {},
   "outputs": [],
   "source": [
    "def Apply_pca(X_train,X_test):\n",
    "    from sklearn.decomposition import PCA\n",
    "    pca = PCA(n_components = 2)\n",
    "    X_train = pca.fit_transform(X_train)\n",
    "    X_test = pca.transform(X_test)\n",
    "    explained_variance = pca.explained_variance_ratio_\n",
    "    return X_train, X_test, explained_variance"
   ]
  },
  {
   "cell_type": "code",
   "execution_count": null,
   "id": "521543fb-f352-4fd8-a474-b14cfd06a87c",
   "metadata": {},
   "outputs": [],
   "source": [
    "# This code defines multiple functions to perform feature selection, data preprocessing, splitting, and classification \n",
    "# using various machine learning algorithms (Logistic Regression, SVM, Naive Bayes, KNN, Decision Tree, Random Forest). \n",
    "# It also evaluates models using accuracy, classification reports, and confusion matrices, and compiles the results into a DataFrame for comparison\n",
    "    \n",
    "     \n",
    "def cm_prediction(classifier,X_test):\n",
    "     y_pred = classifier.predict(X_test)\n",
    "        \n",
    "        # Making the Confusion Matrix\n",
    "     from sklearn.metrics import confusion_matrix\n",
    "     cm = confusion_matrix(y_test, y_pred)\n",
    "        \n",
    "     from sklearn.metrics import accuracy_score \n",
    "     from sklearn.metrics import classification_report \n",
    "        #from sklearn.metrics import confusion_matrix\n",
    "        #cm = confusion_matrix(y_test, y_pred)\n",
    "        \n",
    "     Accuracy=accuracy_score(y_test, y_pred )\n",
    "        \n",
    "     report=classification_report(y_test, y_pred)\n",
    "     return  classifier,Accuracy,report,X_test,y_test,cm\n",
    "\n",
    "def logisticRegression(X_train,y_train,X_test):       \n",
    "        # Fitting K-NN to the Training set\n",
    "        from sklearn.linear_model import LogisticRegression\n",
    "        classifier = LogisticRegression(random_state = 0)\n",
    "        classifier.fit(X_train, y_train)\n",
    "        classifier,Accuracy,report,X_test,y_test,cm=cm_prediction(classifier,X_test)\n",
    "        return  classifier,Accuracy,report,X_test,y_test,cm      \n",
    "    \n",
    "def svm_linear(X_train,y_train,X_test):\n",
    "                \n",
    "        from sklearn.svm import SVC\n",
    "        classifier = SVC(kernel = 'linear', random_state = 0)\n",
    "        classifier.fit(X_train, y_train)\n",
    "        classifier,Accuracy,report,X_test,y_test,cm=cm_prediction(classifier,X_test)\n",
    "        return  classifier,Accuracy,report,X_test,y_test,cm\n",
    "    \n",
    "def svm_NL(X_train,y_train,X_test):\n",
    "                \n",
    "        from sklearn.svm import SVC\n",
    "        classifier = SVC(kernel = 'rbf', random_state = 0)\n",
    "        classifier.fit(X_train, y_train)\n",
    "        classifier,Accuracy,report,X_test,y_test,cm=cm_prediction(classifier,X_test)\n",
    "        return  classifier,Accuracy,report,X_test,y_test,cm\n",
    "   \n",
    "def Navie(X_train,y_train,X_test):       \n",
    "        # Fitting K-NN to the Training set\n",
    "        from sklearn.naive_bayes import GaussianNB\n",
    "        classifier = GaussianNB()\n",
    "        classifier.fit(X_train, y_train)\n",
    "        classifier,Accuracy,report,X_test,y_test,cm=cm_prediction(classifier,X_test)\n",
    "        return  classifier,Accuracy,report,X_test,y_test,cm         \n",
    "    \n",
    "    \n",
    "def knn(X_train,y_train,X_test):\n",
    "           \n",
    "        # Fitting K-NN to the Training set\n",
    "        from sklearn.neighbors import KNeighborsClassifier\n",
    "        classifier = KNeighborsClassifier(n_neighbors = 5, metric = 'minkowski', p = 2)\n",
    "        classifier.fit(X_train, y_train)\n",
    "        classifier,Accuracy,report,X_test,y_test,cm=cm_prediction(classifier,X_test)\n",
    "        return  classifier,Accuracy,report,X_test,y_test,cm\n",
    "def Decision(X_train,y_train,X_test):\n",
    "        \n",
    "        # Fitting K-NN to the Training set\n",
    "        from sklearn.tree import DecisionTreeClassifier\n",
    "        classifier = DecisionTreeClassifier(criterion = 'entropy', random_state = 0)\n",
    "        classifier.fit(X_train, y_train)\n",
    "        classifier,Accuracy,report,X_test,y_test,cm=cm_prediction(classifier,X_test)\n",
    "        return  classifier,Accuracy,report,X_test,y_test,cm      \n",
    "\n",
    "\n",
    "def random(X_train,y_train,X_test):\n",
    "        \n",
    "        # Fitting K-NN to the Training set\n",
    "        from sklearn.ensemble import RandomForestClassifier\n",
    "        classifier = RandomForestClassifier(n_estimators = 10, criterion = 'entropy', random_state = 0)\n",
    "        classifier.fit(X_train, y_train)\n",
    "        classifier,Accuracy,report,X_test,y_test,cm=cm_prediction(classifier,X_test)\n",
    "        return  classifier,Accuracy,report,X_test,y_test,cm\n",
    "    \n",
    "def pca_classification(acclog,accsvml,accsvmnl,accknn,accnav,accdes,accrf): \n",
    "    \n",
    "    pcadataframe=pd.DataFrame(index=['LogisticRegression','SVC','Random','DecisionTree'],columns=['LogisticRegression','SVMl','SVMnl','KNN','Navie','Decision','Random'])\n",
    "    for number,idex in enumerate(pcadataframe.index):      \n",
    "        pcadataframe['LogisticRegression'][idex]=acclog[number]       \n",
    "        pcadataframe['SVMl'][idex]=accsvml[number]\n",
    "        pcadataframe['SVMnl'][idex]=accsvmnl[number]\n",
    "        pcadataframe['KNN'][idex]=accknn[number]\n",
    "        pcadataframe['Navie'][idex]=accnav[number]\n",
    "        pcadataframe['Decision'][idex]=accdes[number]\n",
    "        pcadataframe['Random'][idex]=accrf[number]\n",
    "    return pcadataframe\n",
    "\n",
    "\n",
    "    "
   ]
  },
  {
   "cell_type": "code",
   "execution_count": null,
   "id": "2689e9f8-62df-481a-b147-1f19a22bad25",
   "metadata": {},
   "outputs": [],
   "source": [
    "dataset1=pd.read_csv(\"CKD.csv\", index_col=None )"
   ]
  },
  {
   "cell_type": "code",
   "execution_count": null,
   "id": "0d64e7b6-2b00-4161-984a-704445e27303",
   "metadata": {},
   "outputs": [],
   "source": [
    "df2=dataset1"
   ]
  },
  {
   "cell_type": "code",
   "execution_count": null,
   "id": "b54d0a1a-dda9-4b7f-a01e-3ec2d9c06a8b",
   "metadata": {},
   "outputs": [],
   "source": [
    "df2 = pd.get_dummies(df2, dtype=int,drop_first=True)\n"
   ]
  },
  {
   "cell_type": "code",
   "execution_count": null,
   "id": "02e6d36a-1844-405a-bd23-99e259db56c5",
   "metadata": {},
   "outputs": [],
   "source": [
    "df2"
   ]
  },
  {
   "cell_type": "code",
   "execution_count": null,
   "id": "63c4b9e0-8373-4067-a1e1-616fbed8eb8e",
   "metadata": {},
   "outputs": [],
   "source": [
    "df2[\"classification_yes\"].value_counts()"
   ]
  },
  {
   "cell_type": "code",
   "execution_count": null,
   "id": "3196cc75-64e5-4f64-9e1d-75a751063dd1",
   "metadata": {},
   "outputs": [],
   "source": [
    "independent_X=df2.drop('classification_yes', axis=1)"
   ]
  },
  {
   "cell_type": "code",
   "execution_count": null,
   "id": "630beb45-fb5a-4e0a-835f-49fc913dec61",
   "metadata": {},
   "outputs": [],
   "source": [
    "dependent_y=df2['classification_yes']"
   ]
  },
  {
   "cell_type": "code",
   "execution_count": null,
   "id": "231a562d-c95c-45dc-ba5f-94302c6ad92b",
   "metadata": {},
   "outputs": [],
   "source": [
    "acclog=[]\n",
    "accsvml=[]\n",
    "accsvmnl=[]\n",
    "accknn=[]\n",
    "accnav=[]\n",
    "accdes=[]\n",
    "accrf=[]"
   ]
  },
  {
   "cell_type": "code",
   "execution_count": null,
   "id": "9cc9bd38-9b71-4839-90a1-e0658d568edd",
   "metadata": {},
   "outputs": [],
   "source": [
    "x_train,x_test,y_train,y_test=split_scalar(independent_X,dependent_y)\n"
   ]
  },
  {
   "cell_type": "code",
   "execution_count": null,
   "id": "b1b3a657-89ab-4687-a356-7251caf218f8",
   "metadata": {},
   "outputs": [],
   "source": [
    "X_train,X_test,explained_variance=Apply_pca(x_train,x_test)"
   ]
  },
  {
   "cell_type": "code",
   "execution_count": null,
   "id": "4f73e15a-c54f-4aff-b3b7-f2adcfd93213",
   "metadata": {},
   "outputs": [],
   "source": [
    "import warnings\n",
    "warnings.filterwarnings(\"ignore\")"
   ]
  },
  {
   "cell_type": "code",
   "execution_count": null,
   "id": "29cdc4c4-35ef-4f34-baf2-3a4fdc386a9d",
   "metadata": {},
   "outputs": [],
   "source": [
    "classifier,Accuracy,report,cm=LogisticRegression(X_train,y_train)\n",
    "acclog.append(Accuracy)"
   ]
  },
  {
   "cell_type": "code",
   "execution_count": null,
   "id": "a441166c-7053-4e85-bacc-ac2059a1f7f7",
   "metadata": {},
   "outputs": [],
   "source": [
    "acclog=[]"
   ]
  },
  {
   "cell_type": "code",
   "execution_count": null,
   "id": "ac85eeba-71e7-44e9-bf4f-16ea99d2f977",
   "metadata": {
    "scrolled": true
   },
   "outputs": [],
   "source": [
    "\n",
    "classifier,Accuracy,report,X_test,y_test,cm=LogisticRegression(X_train,y_train,X_test)\n",
    "acclog.append(Accuracy)\n",
    "classifier,Accuracy,report,X_test,y_test,cm=svm_linear(X_train,y_train,X_test)\n",
    "accsvml.append(Accuracy)\n",
    "classifier,Accuracy,report,x_test,y_test,cm=svm_NL(x_train,y_train,x_test)\n",
    "accsvmnl.append(Accuracy)\n",
    "classifier,Accuracy,report,x_test,y_test,cm=knn(x_train,y_train,x_test)\n",
    "accknn.append(Accuracy)\n",
    "classifier,Accuracy,report,x_test,y_test,cm=Navie(x_train,y_train,x_test)\n",
    "accnav.append(Accuracy)\n",
    "classifier,Accuracy,report,x_test,y_test,cm=Decision(x_train,y_train,x_test)\n",
    "accdes.append(Accuracy)\n",
    "classifier,Accuracy,report,x_test,y_test,cm=random(x_train,y_train,x_test)\n",
    "accrf.append(Accuracy)\n",
    " \n",
    "result=pca_classification(acclog,accsvml,accsvmnl,accknn,accnav,accdes,accrf)\n"
   ]
  },
  {
   "cell_type": "code",
   "execution_count": null,
   "id": "913f36cf-446c-441d-811b-2084e842501c",
   "metadata": {},
   "outputs": [],
   "source": [
    "result = pca_classification(acclog,accsvml,accvmnl,accknn,accnav,accdes,accrf)"
   ]
  },
  {
   "cell_type": "code",
   "execution_count": null,
   "id": "0ed9f9bd-decb-4af4-ab6e-23a42439cf66",
   "metadata": {},
   "outputs": [],
   "source": [
    "result"
   ]
  },
  {
   "cell_type": "code",
   "execution_count": null,
   "id": "83bbcc95-67da-4412-b7fe-62e7885f24b0",
   "metadata": {},
   "outputs": [],
   "source": []
  }
 ],
 "metadata": {
  "kernelspec": {
   "display_name": "Python 3 (ipykernel)",
   "language": "python",
   "name": "python3"
  },
  "language_info": {
   "codemirror_mode": {
    "name": "ipython",
    "version": 3
   },
   "file_extension": ".py",
   "mimetype": "text/x-python",
   "name": "python",
   "nbconvert_exporter": "python",
   "pygments_lexer": "ipython3",
   "version": "3.11.5"
  }
 },
 "nbformat": 4,
 "nbformat_minor": 5
}
